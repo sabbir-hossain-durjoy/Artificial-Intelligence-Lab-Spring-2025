{
 "cells": [
  {
   "cell_type": "code",
   "execution_count": null,
   "id": "ec154861",
   "metadata": {},
   "outputs": [],
   "source": [
    "import numpy as np\n",
    "import pandas as pd\n",
    "\n",
    "from google.colab import drive\n",
    "drive.mount(\"/content/drive\")\n",
    "df=pd.read_csv(\"path- Hill_climb.csv\")\n",
    "df"
   ]
  },
  {
   "cell_type": "code",
   "execution_count": null,
   "id": "822c36b2",
   "metadata": {},
   "outputs": [],
   "source": [
    "import pandas as pd\n",
    "\n",
    "df = pd.read_csv(\"path- Hill_climb.csv\", index_col=0)\n",
    "distance_matrix = df.to_numpy()\n",
    "num_cities = len(distance_matrix)\n",
    "current_path = [0]\n",
    "visited = set(current_path)\n",
    "total_cost = 0\n",
    "\n",
    "while len(current_path) < num_cities:\n",
    "    last_city = current_path[-1]\n",
    "    next_city = None\n",
    "    min_distance = float('inf')\n",
    "    for city in range(num_cities):\n",
    "        if city not in visited and 0 < distance_matrix[last_city][city] < min_distance:\n",
    "            min_distance = distance_matrix[last_city][city]\n",
    "            next_city = city\n",
    "    if next_city is not None:\n",
    "        current_path.append(next_city)\n",
    "        visited.add(next_city)\n",
    "        total_cost += min_distance\n",
    "\n",
    "city_names = df.index.tolist()\n",
    "optimal_path = [city_names[i] for i in current_path]\n",
    "\n",
    "print(\"Optimal Path Found by Hill Climbing:\", \" → \".join(optimal_path))\n",
    "print(\"Total Cost of Optimal Path:\", total_cost)\n"
   ]
  }
 ],
 "metadata": {
  "language_info": {
   "name": "python"
  }
 },
 "nbformat": 4,
 "nbformat_minor": 5
}
