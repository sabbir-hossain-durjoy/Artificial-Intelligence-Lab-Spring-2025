{
 "cells": [
  {
   "cell_type": "code",
   "execution_count": null,
   "id": "0547433a",
   "metadata": {},
   "outputs": [],
   "source": [
    "import math\n",
    "\n",
    "def minimax(curDepth, nodeIndex, maxTurn, scores, targetDepth):\n",
    "    if curDepth == targetDepth:\n",
    "        return scores[nodeIndex]\n",
    "    if maxTurn:\n",
    "        return max(\n",
    "            minimax(curDepth+1, nodeIndex*2,   False, scores, targetDepth),\n",
    "            minimax(curDepth+1, nodeIndex*2+1, False, scores, targetDepth)\n",
    "        )\n",
    "    else:\n",
    "        return min(\n",
    "            minimax(curDepth+1, nodeIndex*2,   True, scores, targetDepth),\n",
    "            minimax(curDepth+1, nodeIndex*2+1, True, scores, targetDepth)\n",
    "        )\n",
    "\n",
    "scores = [3, 5, 2, 9, 12, 5, 23, 23]\n",
    "treeDepth = int(math.log2(len(scores)))\n",
    "\n",
    "print(\"The optimal value is:\", minimax(0, 0, True, scores, treeDepth))  \n"
   ]
  }
 ],
 "metadata": {
  "language_info": {
   "name": "python"
  }
 },
 "nbformat": 4,
 "nbformat_minor": 5
}
