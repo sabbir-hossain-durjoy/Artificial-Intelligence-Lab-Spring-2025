{
 "cells": [
  {
   "cell_type": "code",
   "execution_count": null,
   "id": "5bfca2d2",
   "metadata": {},
   "outputs": [],
   "source": [
    "import math\n",
    "\n",
    "def alphabeta(depth, nodeIndex, maximizing, values, alpha, beta, max_depth):\n",
    "    if depth == max_depth:\n",
    "        return values[nodeIndex]\n",
    "    if maximizing:\n",
    "        best = -float('inf')\n",
    "        for i in range(2):\n",
    "            val = alphabeta(depth+1, nodeIndex*2 + i, False, values, alpha, beta, max_depth)\n",
    "            best = max(best, val)\n",
    "            alpha = max(alpha, best)\n",
    "            if beta <= alpha:\n",
    "                break\n",
    "        return best\n",
    "    else:\n",
    "        best = float('inf')\n",
    "        for i in range(2):\n",
    "            val = alphabeta(depth+1, nodeIndex*2 + i, True, values, alpha, beta, max_depth)\n",
    "            best = min(best, val)\n",
    "            beta = min(beta, best)\n",
    "            if beta <= alpha:\n",
    "                break\n",
    "        return best\n",
    "\n",
    "values = [3, 5, 2, 9, 1, 2, 0, -1]\n",
    "max_depth = int(math.log2(len(values)))\n",
    "print(\"The optimal value is:\", alphabeta(0, 0, True, values, -float('inf'), float('inf'), max_depth))\n"
   ]
  }
 ],
 "metadata": {
  "language_info": {
   "name": "python"
  }
 },
 "nbformat": 4,
 "nbformat_minor": 5
}
