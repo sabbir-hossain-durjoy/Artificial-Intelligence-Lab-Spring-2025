{
 "cells": [
  {
   "cell_type": "code",
   "execution_count": null,
   "id": "0aa2dad0",
   "metadata": {},
   "outputs": [],
   "source": [
    "#Make a 2D array using multiple lists. the shape will be 7*9\n",
    "\n",
    "row = 7\n",
    "col = 9\n",
    "\n",
    "array = [[int(input(f\"Enter value for row {i + 1}, column {j + 1}: \"))\n",
    "             for j in range(col)] for i in range(row)]\n",
    "\n",
    "print(array)"
   ]
  },
  {
   "cell_type": "code",
   "execution_count": null,
   "id": "a9781f5c",
   "metadata": {},
   "outputs": [],
   "source": [
    "#Convert Dictonary to Data Frame\n",
    "import pandas as pd\n",
    "x = {'first': [1,2,3], 'second': [4,5,6], 'third': [7,8,9]}\n",
    "df = pd.DataFrame(x)\n",
    "print(df)"
   ]
  },
  {
   "cell_type": "code",
   "execution_count": null,
   "id": "32fe399e",
   "metadata": {},
   "outputs": [],
   "source": [
    "#Make a dictionary with keys. im every value there must be a minimum of 10 entires. dictonary must be containing, integer and floate types or entires.(user input)\n",
    "\n",
    "re= {}\n",
    "\n",
    "re['names'] = []\n",
    "for i in range(10):\n",
    "    re['names'].append(input(f\"Enter name {i+1}: \"))\n",
    "\n",
    "re['ages'] = []\n",
    "for i in range(10):\n",
    "    re['ages'].append(int(input(f\"Enter age {i+1}: \")))\n",
    "\n",
    "re['scores'] = []\n",
    "for i in range(10):\n",
    "    re['scores'].append(float(input(f\"Enter score {i+1}: \")))\n",
    "\n",
    "re['prices'] = []\n",
    "for i in range(10):\n",
    "    re['prices'].append(float(input(f\"Enter price {i+1}: \")))\n",
    "\n",
    "re['cities'] = []\n",
    "for i in range(10):\n",
    "    re['cities'].append(input(f\"Enter city {i+1}: \"))\n",
    "\n",
    "print(\"The dictionary is:\", re)"
   ]
  }
 ],
 "metadata": {
  "language_info": {
   "name": "python"
  }
 },
 "nbformat": 4,
 "nbformat_minor": 5
}
