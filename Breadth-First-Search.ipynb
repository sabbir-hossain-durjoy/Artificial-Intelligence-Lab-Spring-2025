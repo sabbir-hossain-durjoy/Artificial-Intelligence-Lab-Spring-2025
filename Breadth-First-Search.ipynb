{
 "cells": [
  {
   "cell_type": "code",
   "execution_count": null,
   "id": "c1749e27",
   "metadata": {},
   "outputs": [],
   "source": [
    "graph= {\n",
    "\n",
    "   '5':['3','7'],\n",
    "   '3':['2','4'],\n",
    "   '7':['8'],\n",
    "   '2':[],\n",
    "   '4':['8'],\n",
    "   '8':[]\n",
    "\n",
    "}\n",
    "\n",
    "visited = []\n",
    "queue= []"
   ]
  },
  {
   "cell_type": "code",
   "execution_count": null,
   "id": "d1bbd975",
   "metadata": {},
   "outputs": [],
   "source": [
    "def bfs (visited , graph, node):\n",
    "  visited.append(node)\n",
    "  queue.append(node)\n",
    "  while queue:\n",
    "    m = queue.pop(0)\n",
    "    print(m, end=\" \")\n",
    "    for neighbour in graph[m]:\n",
    "      if neighbour not in visited:\n",
    "        visited.append(neighbour)\n",
    "        queue.append(neighbour)"
   ]
  },
  {
   "cell_type": "code",
   "execution_count": null,
   "id": "669ac845",
   "metadata": {},
   "outputs": [],
   "source": [
    "print(\"Following is the Breadth-First Search\")\n",
    "bfs(visited, graph, '5')"
   ]
  },
  {
   "cell_type": "code",
   "execution_count": null,
   "id": "53b10aa1",
   "metadata": {},
   "outputs": [],
   "source": [
    "graph1= {\n",
    "\n",
    "   '7':['9','4', '3'],\n",
    "   '9':['2','6'],\n",
    "   '4':['8'],\n",
    "   '3':['10'],\n",
    "   '2':['11'],\n",
    "   '6':['11'],\n",
    "   '8':[],\n",
    "   '10':['8','11'],\n",
    "   '11':[]\n",
    "\n",
    "}\n",
    "\n",
    "visited1 = []\n",
    "queue1= []\n",
    "re =['7','3','10','11']"
   ]
  },
  {
   "cell_type": "code",
   "execution_count": null,
   "id": "d83735bf",
   "metadata": {},
   "outputs": [],
   "source": [
    "print(\"Following is the Breadth-First Search\")\n",
    "bfs(visited1, graph1, '7')"
   ]
  },
  {
   "cell_type": "code",
   "execution_count": null,
   "id": "c76880ab",
   "metadata": {},
   "outputs": [],
   "source": [
    "def new_bfs(visited, graph, node):\n",
    "    visited.append(node)\n",
    "    queue = [node]\n",
    "\n",
    "    while queue:\n",
    "        m = queue.pop(0)\n",
    "        print(m, end=\" \")\n",
    "\n",
    "        for neighbour in graph[m]:\n",
    "            if neighbour not in visited:\n",
    "                visited.append(neighbour)\n",
    "                queue.append(neighbour)\n",
    "\n",
    "\n",
    "graph1 = {\n",
    "    '7': ['6', '5'],\n",
    "    '6': ['4'],\n",
    "    '5': ['4'],\n",
    "    '4': []\n",
    "}\n",
    "\n",
    "visited1 = []\n",
    "print(\"Following is the Breadth-First Search:\")\n",
    "new_bfs(visited1, graph1, '7')\n"
   ]
  },
  {
   "cell_type": "code",
   "execution_count": null,
   "id": "adbbf72e",
   "metadata": {},
   "outputs": [],
   "source": []
  }
 ],
 "metadata": {
  "kernelspec": {
   "display_name": "Python 3",
   "language": "python",
   "name": "python3"
  },
  "language_info": {
   "name": "python",
   "version": "3.8.10"
  }
 },
 "nbformat": 4,
 "nbformat_minor": 5
}
